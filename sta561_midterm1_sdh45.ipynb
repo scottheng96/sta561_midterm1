{
 "cells": [
  {
   "cell_type": "markdown",
   "id": "persistent-action",
   "metadata": {},
   "source": [
    "# STA561 Midterm 1"
   ]
  },
  {
   "cell_type": "code",
   "execution_count": 1,
   "id": "satisfied-tomato",
   "metadata": {},
   "outputs": [
    {
     "ename": "ModuleNotFoundError",
     "evalue": "No module named 'sklearn'",
     "output_type": "error",
     "traceback": [
      "\u001b[0;31m---------------------------------------------------------------------------\u001b[0m",
      "\u001b[0;31mModuleNotFoundError\u001b[0m                       Traceback (most recent call last)",
      "\u001b[0;32m<ipython-input-1-48d295ad57e7>\u001b[0m in \u001b[0;36m<module>\u001b[0;34m\u001b[0m\n\u001b[1;32m      1\u001b[0m \u001b[0;31m#packages\u001b[0m\u001b[0;34m\u001b[0m\u001b[0;34m\u001b[0m\u001b[0;34m\u001b[0m\u001b[0m\n\u001b[1;32m      2\u001b[0m \u001b[0;32mimport\u001b[0m \u001b[0mnumpy\u001b[0m \u001b[0;32mas\u001b[0m \u001b[0mnp\u001b[0m\u001b[0;34m\u001b[0m\u001b[0;34m\u001b[0m\u001b[0m\n\u001b[0;32m----> 3\u001b[0;31m \u001b[0;32mfrom\u001b[0m \u001b[0msklearn\u001b[0m\u001b[0;34m.\u001b[0m\u001b[0mlinear_model\u001b[0m \u001b[0;32mimport\u001b[0m \u001b[0mLinearRegression\u001b[0m\u001b[0;34m\u001b[0m\u001b[0;34m\u001b[0m\u001b[0m\n\u001b[0m",
      "\u001b[0;31mModuleNotFoundError\u001b[0m: No module named 'sklearn'"
     ]
    }
   ],
   "source": [
    "#packages\n",
    "import numpy as np\n",
    "from sklearn.linear_model import LinearRegression"
   ]
  },
  {
   "cell_type": "markdown",
   "id": "color-hungary",
   "metadata": {},
   "source": [
    "### Question 3 (It All Goes Wrong)"
   ]
  },
  {
   "cell_type": "code",
   "execution_count": 2,
   "id": "appointed-bahamas",
   "metadata": {},
   "outputs": [
    {
     "ename": "SyntaxError",
     "evalue": "invalid syntax (<ipython-input-2-6ebca82fbf80>, line 7)",
     "output_type": "error",
     "traceback": [
      "\u001b[0;36m  File \u001b[0;32m\"<ipython-input-2-6ebca82fbf80>\"\u001b[0;36m, line \u001b[0;32m7\u001b[0m\n\u001b[0;31m    estSISRidge = function (x, y, lam, M){\u001b[0m\n\u001b[0m                                         ^\u001b[0m\n\u001b[0;31mSyntaxError\u001b[0m\u001b[0;31m:\u001b[0m invalid syntax\n"
     ]
    }
   ],
   "source": [
    "### Professor's Code\n",
    "\n",
    "set.seed (0)\n",
    "require(\"lasso2\")\n",
    "require(\"MASS\")\n",
    "\n",
    "def estSISRidge = function (x, y, lam, M){\n",
    "    x = scale (x, center=T, scale=T)\n",
    "    y = scale (y, center=T, scale=T)\n",
    "    w = t(x) %*% y\n",
    "    ind = which (rank(-abs(w)) <= M)\n",
    "    xr = x[,ind] # reduced covariates\n",
    "\n",
    "    ridgeFits = lm.ridge (y ~ xr -1, lam=lam)\n",
    "    bHatAll = coefficients (ridgeFits)\n",
    "    d = eigen (t(xr) %*% xr)$values\n",
    "    ridgeDF = numeric (length (lam))\n",
    "    for (j in 1:length(d)){\n",
    "        ridgeDF = ridgeDF + d[j]/(d[j]+lam)\n",
    "    }\n",
    "    ridgeBIC = numeric (length(lam))\n",
    "    n = dim(xr)[1]\n",
    "    for (i in 1:length(lam)){\n",
    "        bHat = bHatAll[i,]\n",
    "        rss = sum((y - xr %*% bHat)^2)\n",
    "        ridgeBIC[i] = log(rss) + ridgeDF[i]*log (n)/n\n",
    "    }\n",
    "\n",
    "    bHat = numeric (dim(x)[2])\n",
    "    bHat[ind] = bHatAll[which.min(ridgeBIC),]\n",
    "    return (bHat)\n",
    "}\n",
    "\n",
    "\n",
    "## Generate data with only a few important covariates\n",
    "n = 500\n",
    "p = 1500\n",
    "x = matrix (rnorm (n*p), nrow=n)\n",
    "bStar = c(1, 1, 2, 2, rep(0, p-4))\n",
    "y = x %*% bStar + rnorm (n)\n",
    "sigY = sd (y)\n",
    "sigX = apply (x, 2, sd)\n",
    "bHat = estSISRidge(x, y, seq (0, 2000, length=5000), 10)*sigY/sigX"
   ]
  },
  {
   "cell_type": "code",
   "execution_count": 1,
   "id": "remarkable-diabetes",
   "metadata": {},
   "outputs": [],
   "source": [
    "n = 0\n",
    "p = 100\n"
   ]
  },
  {
   "cell_type": "code",
   "execution_count": null,
   "id": "abroad-lafayette",
   "metadata": {},
   "outputs": [],
   "source": []
  },
  {
   "cell_type": "code",
   "execution_count": null,
   "id": "opened-pocket",
   "metadata": {},
   "outputs": [],
   "source": []
  },
  {
   "cell_type": "code",
   "execution_count": null,
   "id": "recent-spray",
   "metadata": {},
   "outputs": [],
   "source": []
  }
 ],
 "metadata": {
  "kernelspec": {
   "display_name": "Python 3",
   "language": "python",
   "name": "python3"
  },
  "language_info": {
   "codemirror_mode": {
    "name": "ipython",
    "version": 3
   },
   "file_extension": ".py",
   "mimetype": "text/x-python",
   "name": "python",
   "nbconvert_exporter": "python",
   "pygments_lexer": "ipython3",
   "version": "3.9.2"
  }
 },
 "nbformat": 4,
 "nbformat_minor": 5
}
